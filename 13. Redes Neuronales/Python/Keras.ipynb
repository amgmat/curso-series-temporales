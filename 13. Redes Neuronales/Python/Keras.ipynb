{
  "nbformat": 4,
  "nbformat_minor": 0,
  "metadata": {
    "kernelspec": {
      "display_name": "Python 3",
      "language": "python",
      "name": "python3"
    },
    "language_info": {
      "codemirror_mode": {
        "name": "ipython",
        "version": 3
      },
      "file_extension": ".py",
      "mimetype": "text/x-python",
      "name": "python",
      "nbconvert_exporter": "python",
      "pygments_lexer": "ipython3",
      "version": "3.6.7"
    },
    "colab": {
      "name": "Keras.ipynb",
      "provenance": []
    }
  },
  "cells": [
    {
      "cell_type": "markdown",
      "metadata": {
        "id": "HRT4LwDK3bu1"
      },
      "source": [
        "# Keras "
      ]
    },
    {
      "cell_type": "code",
      "metadata": {
        "id": "n43096g33bu1"
      },
      "source": [
        "# Importando librarías\n",
        "import keras\n",
        "import matplotlib.pyplot as plt\n",
        "import pandas as pd\n",
        "import numpy as np"
      ],
      "execution_count": 2,
      "outputs": []
    },
    {
      "cell_type": "markdown",
      "metadata": {
        "id": "B9wstEKj3bu5"
      },
      "source": [
        "## Regresión lineal y=mx+b+ruido"
      ]
    },
    {
      "cell_type": "code",
      "metadata": {
        "id": "poGsQuv_3bu5"
      },
      "source": [
        "m = 2\n",
        "b = 3\n",
        "x = np.linspace(0,50,100)\n",
        "\n",
        "# vamos a fijar una semilla en 101, un valor aleatorio para asegurarnos de que obtengas los mismos resultados que yo!\n",
        "np.random.seed(101) \n",
        "ruido = np.random.normal(loc=0.0,scale=4.0,size=len(x))\n",
        "#loc- media, scale- desviación estandar, size-cantidad"
      ],
      "execution_count": 5,
      "outputs": []
    },
    {
      "cell_type": "code",
      "metadata": {
        "id": "MuMla58t3bu8"
      },
      "source": [
        "y = m*x + b + ruido"
      ],
      "execution_count": 6,
      "outputs": []
    },
    {
      "cell_type": "code",
      "metadata": {
        "id": "toVNklzd3bu-",
        "colab": {
          "base_uri": "https://localhost:8080/",
          "height": 265
        },
        "outputId": "e5997f09-410e-462c-a527-529fbb6f4890"
      },
      "source": [
        "plt.plot(x,y,'*');"
      ],
      "execution_count": 7,
      "outputs": [
        {
          "output_type": "display_data",
          "data": {
            "image/png": "[encoded data removed]",
            "text/plain": [
              "<Figure size 432x288 with 1 Axes>"
            ]
          },
          "metadata": {
            "tags": [],
            "needs_background": "light"
          }
        }
      ]
    },
    {
      "cell_type": "markdown",
      "metadata": {
        "id": "kPvzkgi93bvC"
      },
      "source": [
        "## Creando una Red Neuronal para una Regresión"
      ]
    },
    {
      "cell_type": "code",
      "metadata": {
        "id": "l4qsI7Uu3bvD"
      },
      "source": [
        "from keras.models import Sequential\n",
        "from keras.layers import Dense"
      ],
      "execution_count": 8,
      "outputs": []
    },
    {
      "cell_type": "code",
      "metadata": {
        "id": "QtvnVIMx3bvF"
      },
      "source": [
        "model = Sequential()\n",
        "# 4 Neuronas, esperamos solo 1 input \n",
        "model.add(Dense(4, input_dim=1, activation='relu'))\n",
        "# 4 Neuronas\n",
        "model.add(Dense(4, activation='relu'))\n",
        "# Solo 1 neurona porque solo tenemos 1 output que es Y\n",
        "model.add(Dense(1, activation='linear'))\n",
        "# Compilamos todas las capas\n",
        "model.compile(loss='mse', optimizer='adam')"
      ],
      "execution_count": 9,
      "outputs": []
    },
    {
      "cell_type": "code",
      "metadata": {
        "id": "esLa-nsq3bvI",
        "colab": {
          "base_uri": "https://localhost:8080/"
        },
        "outputId": "a8fa46a8-0d64-49b6-92df-451c3269ee6a"
      },
      "source": [
        "model.summary()"
      ],
      "execution_count": 10,
      "outputs": [
        {
          "output_type": "stream",
          "text": [
            "Model: \"sequential\"\n",
            "_________________________________________________________________\n",
            "Layer (type)                 Output Shape              Param #   \n",
            "=================================================================\n",
            "dense (Dense)                (None, 4)                 8         \n",
            "_________________________________________________________________\n",
            "dense_1 (Dense)              (None, 4)                 20        \n",
            "_________________________________________________________________\n",
            "dense_2 (Dense)              (None, 1)                 5         \n",
            "=================================================================\n",
            "Total params: 33\n",
            "Trainable params: 33\n",
            "Non-trainable params: 0\n",
            "_________________________________________________________________\n"
          ],
          "name": "stdout"
        }
      ]
    },
    {
      "cell_type": "markdown",
      "metadata": {
        "id": "dqIddxcm3bvK"
      },
      "source": [
        "## Entrenamiento de la red\n",
        "\n",
        "** NOTA: EN ESTE EJEMPLO VAMOS A SALTARNOS EL PASO DE DIVIDIR LOS DATOS EN ENTRENAMIENTO Y PRUEBA!!!! **"
      ]
    },
    {
      "cell_type": "code",
      "metadata": {
        "id": "PgBp7fg-3bvL",
        "colab": {
          "base_uri": "https://localhost:8080/"
        },
        "outputId": "c0481f22-68a9-49af-85b2-40dae4d6c9f4"
      },
      "source": [
        "model.fit(x, y, epochs=200, verbose=1)"
      ],
      "execution_count": 11,
      "outputs": [
        {
          "output_type": "stream",
          "text": [
            "Epoch 1/200\n",
            "4/4 [==============================] - 1s 2ms/step - loss: 3316.4602\n",
            "Epoch 2/200\n",
            "4/4 [==============================] - 0s 3ms/step - loss: 3161.0430\n",
            "Epoch 3/200\n",
            "4/4 [==============================] - 0s 2ms/step - loss: 3286.4709\n",
            "Epoch 4/200\n",
            "4/4 [==============================] - 0s 3ms/step - loss: 3294.2333\n",
            "Epoch 5/200\n",
            "4/4 [==============================] - 0s 2ms/step - loss: 3401.8859\n",
            "Epoch 6/200\n",
            "4/4 [==============================] - 0s 3ms/step - loss: 3105.9936\n",
            "Epoch 7/200\n",
            "4/4 [==============================] - 0s 3ms/step - loss: 3217.0541\n",
            "Epoch 8/200\n",
            "4/4 [==============================] - 0s 3ms/step - loss: 3127.7927\n",
            "Epoch 9/200\n",
            "4/4 [==============================] - 0s 4ms/step - loss: 3068.9499\n",
            "Epoch 10/200\n",
            "4/4 [==============================] - 0s 2ms/step - loss: 3158.0920\n",
            "Epoch 11/200\n",
            "4/4 [==============================] - 0s 2ms/step - loss: 3125.4150\n",
            "Epoch 12/200\n",
            "4/4 [==============================] - 0s 2ms/step - loss: 3144.1024\n",
            "Epoch 13/200\n",
            "4/4 [==============================] - 0s 3ms/step - loss: 3131.9521\n",
            "Epoch 14/200\n",
            "4/4 [==============================] - 0s 3ms/step - loss: 3052.7990\n",
            "Epoch 15/200\n",
            "4/4 [==============================] - 0s 3ms/step - loss: 2981.9006\n",
            "Epoch 16/200\n",
            "4/4 [==============================] - 0s 3ms/step - loss: 3031.9036\n",
            "Epoch 17/200\n",
            "4/4 [==============================] - 0s 3ms/step - loss: 3046.6049\n",
            "Epoch 18/200\n",
            "4/4 [==============================] - 0s 3ms/step - loss: 2928.7284\n",
            "Epoch 19/200\n",
            "4/4 [==============================] - 0s 4ms/step - loss: 3011.0743\n",
            "Epoch 20/200\n",
            "4/4 [==============================] - 0s 3ms/step - loss: 3091.4382\n",
            "Epoch 21/200\n",
            "4/4 [==============================] - 0s 3ms/step - loss: 2892.0291\n",
            "Epoch 22/200\n",
            "4/4 [==============================] - 0s 3ms/step - loss: 3063.7021\n",
            "Epoch 23/200\n",
            "4/4 [==============================] - 0s 3ms/step - loss: 2954.0967\n",
            "Epoch 24/200\n",
            "4/4 [==============================] - 0s 3ms/step - loss: 2722.9555\n",
            "Epoch 25/200\n",
            "4/4 [==============================] - 0s 3ms/step - loss: 2938.0134\n",
            "Epoch 26/200\n",
            "4/4 [==============================] - 0s 3ms/step - loss: 2974.5141\n",
            "Epoch 27/200\n",
            "4/4 [==============================] - 0s 3ms/step - loss: 2724.8199\n",
            "Epoch 28/200\n",
            "4/4 [==============================] - 0s 3ms/step - loss: 2828.4593\n",
            "Epoch 29/200\n",
            "4/4 [==============================] - 0s 4ms/step - loss: 3003.4225\n",
            "Epoch 30/200\n",
            "4/4 [==============================] - 0s 2ms/step - loss: 2825.9119\n",
            "Epoch 31/200\n",
            "4/4 [==============================] - 0s 3ms/step - loss: 2827.0143\n",
            "Epoch 32/200\n",
            "4/4 [==============================] - 0s 6ms/step - loss: 2691.3633\n",
            "Epoch 33/200\n",
            "4/4 [==============================] - 0s 4ms/step - loss: 2777.4723\n",
            "Epoch 34/200\n",
            "4/4 [==============================] - 0s 4ms/step - loss: 2844.9339\n",
            "Epoch 35/200\n",
            "4/4 [==============================] - 0s 3ms/step - loss: 2671.1671\n",
            "Epoch 36/200\n",
            "4/4 [==============================] - 0s 3ms/step - loss: 2685.5783\n",
            "Epoch 37/200\n",
            "4/4 [==============================] - 0s 2ms/step - loss: 2608.8882\n",
            "Epoch 38/200\n",
            "4/4 [==============================] - 0s 3ms/step - loss: 2434.4555\n",
            "Epoch 39/200\n",
            "4/4 [==============================] - 0s 4ms/step - loss: 2640.8449\n",
            "Epoch 40/200\n",
            "4/4 [==============================] - 0s 3ms/step - loss: 2461.7703\n",
            "Epoch 41/200\n",
            "4/4 [==============================] - 0s 12ms/step - loss: 2512.3845\n",
            "Epoch 42/200\n",
            "4/4 [==============================] - 0s 5ms/step - loss: 2496.2021\n",
            "Epoch 43/200\n",
            "4/4 [==============================] - 0s 3ms/step - loss: 2466.8725\n",
            "Epoch 44/200\n",
            "4/4 [==============================] - 0s 3ms/step - loss: 2415.3385\n",
            "Epoch 45/200\n",
            "4/4 [==============================] - 0s 5ms/step - loss: 2389.9185\n",
            "Epoch 46/200\n",
            "4/4 [==============================] - 0s 4ms/step - loss: 2528.9854\n",
            "Epoch 47/200\n",
            "4/4 [==============================] - 0s 5ms/step - loss: 2468.9803\n",
            "Epoch 48/200\n",
            "4/4 [==============================] - 0s 3ms/step - loss: 2647.0769\n",
            "Epoch 49/200\n",
            "4/4 [==============================] - 0s 4ms/step - loss: 2290.0093\n",
            "Epoch 50/200\n",
            "4/4 [==============================] - 0s 3ms/step - loss: 2462.8279\n",
            "Epoch 51/200\n",
            "4/4 [==============================] - 0s 3ms/step - loss: 2485.5835\n",
            "Epoch 52/200\n",
            "4/4 [==============================] - 0s 2ms/step - loss: 2256.4892\n",
            "Epoch 53/200\n",
            "4/4 [==============================] - 0s 3ms/step - loss: 2302.2915\n",
            "Epoch 54/200\n",
            "4/4 [==============================] - 0s 3ms/step - loss: 2310.0528\n",
            "Epoch 55/200\n",
            "4/4 [==============================] - 0s 3ms/step - loss: 2062.1389\n",
            "Epoch 56/200\n",
            "4/4 [==============================] - 0s 3ms/step - loss: 2243.3875\n",
            "Epoch 57/200\n",
            "4/4 [==============================] - 0s 3ms/step - loss: 2225.2546\n",
            "Epoch 58/200\n",
            "4/4 [==============================] - 0s 3ms/step - loss: 2287.3263\n",
            "Epoch 59/200\n",
            "4/4 [==============================] - 0s 3ms/step - loss: 2189.0863\n",
            "Epoch 60/200\n",
            "4/4 [==============================] - 0s 3ms/step - loss: 2072.1519\n",
            "Epoch 61/200\n",
            "4/4 [==============================] - 0s 3ms/step - loss: 2076.5389\n",
            "Epoch 62/200\n",
            "4/4 [==============================] - 0s 3ms/step - loss: 2188.3567\n",
            "Epoch 63/200\n",
            "4/4 [==============================] - 0s 3ms/step - loss: 2101.1391\n",
            "Epoch 64/200\n",
            "4/4 [==============================] - 0s 2ms/step - loss: 2105.2486\n",
            "Epoch 65/200\n",
            "4/4 [==============================] - 0s 3ms/step - loss: 1917.1290\n",
            "Epoch 66/200\n",
            "4/4 [==============================] - 0s 3ms/step - loss: 2081.5636\n",
            "Epoch 67/200\n",
            "4/4 [==============================] - 0s 2ms/step - loss: 2044.3016\n",
            "Epoch 68/200\n",
            "4/4 [==============================] - 0s 2ms/step - loss: 1965.7628\n",
            "Epoch 69/200\n",
            "4/4 [==============================] - 0s 3ms/step - loss: 1810.0832\n",
            "Epoch 70/200\n",
            "4/4 [==============================] - 0s 2ms/step - loss: 1861.7716\n",
            "Epoch 71/200\n",
            "4/4 [==============================] - 0s 3ms/step - loss: 1754.8723\n",
            "Epoch 72/200\n",
            "4/4 [==============================] - 0s 2ms/step - loss: 1846.9048\n",
            "Epoch 73/200\n",
            "4/4 [==============================] - 0s 3ms/step - loss: 1786.2668\n",
            "Epoch 74/200\n",
            "4/4 [==============================] - 0s 4ms/step - loss: 1715.1212\n",
            "Epoch 75/200\n",
            "4/4 [==============================] - 0s 16ms/step - loss: 1720.6440\n",
            "Epoch 76/200\n",
            "4/4 [==============================] - 0s 4ms/step - loss: 1828.0865\n",
            "Epoch 77/200\n",
            "4/4 [==============================] - 0s 9ms/step - loss: 1651.8760\n",
            "Epoch 78/200\n",
            "4/4 [==============================] - 0s 3ms/step - loss: 1623.7585\n",
            "Epoch 79/200\n",
            "4/4 [==============================] - 0s 4ms/step - loss: 1602.8186\n",
            "Epoch 80/200\n",
            "4/4 [==============================] - 0s 5ms/step - loss: 1546.4996\n",
            "Epoch 81/200\n",
            "4/4 [==============================] - 0s 4ms/step - loss: 1543.8514\n",
            "Epoch 82/200\n",
            "4/4 [==============================] - 0s 4ms/step - loss: 1641.6424\n",
            "Epoch 83/200\n",
            "4/4 [==============================] - 0s 5ms/step - loss: 1404.7871\n",
            "Epoch 84/200\n",
            "4/4 [==============================] - 0s 4ms/step - loss: 1441.5283\n",
            "Epoch 85/200\n",
            "4/4 [==============================] - 0s 3ms/step - loss: 1476.2821\n",
            "Epoch 86/200\n",
            "4/4 [==============================] - 0s 3ms/step - loss: 1489.9320\n",
            "Epoch 87/200\n",
            "4/4 [==============================] - 0s 3ms/step - loss: 1456.1792\n",
            "Epoch 88/200\n",
            "4/4 [==============================] - 0s 3ms/step - loss: 1325.8895\n",
            "Epoch 89/200\n",
            "4/4 [==============================] - 0s 3ms/step - loss: 1411.7641\n",
            "Epoch 90/200\n",
            "4/4 [==============================] - 0s 3ms/step - loss: 1273.4967\n",
            "Epoch 91/200\n",
            "4/4 [==============================] - 0s 3ms/step - loss: 1287.8104\n",
            "Epoch 92/200\n",
            "4/4 [==============================] - 0s 3ms/step - loss: 1171.7660\n",
            "Epoch 93/200\n",
            "4/4 [==============================] - 0s 4ms/step - loss: 1225.1054\n",
            "Epoch 94/200\n",
            "4/4 [==============================] - 0s 3ms/step - loss: 1241.3193\n",
            "Epoch 95/200\n",
            "4/4 [==============================] - 0s 3ms/step - loss: 1186.3630\n",
            "Epoch 96/200\n",
            "4/4 [==============================] - 0s 3ms/step - loss: 1179.3330\n",
            "Epoch 97/200\n",
            "4/4 [==============================] - 0s 3ms/step - loss: 1146.8210\n",
            "Epoch 98/200\n",
            "4/4 [==============================] - 0s 3ms/step - loss: 1164.3218\n",
            "Epoch 99/200\n",
            "4/4 [==============================] - 0s 3ms/step - loss: 1096.9271\n",
            "Epoch 100/200\n",
            "4/4 [==============================] - 0s 3ms/step - loss: 1146.7354\n",
            "Epoch 101/200\n",
            "4/4 [==============================] - 0s 3ms/step - loss: 1045.3438\n",
            "Epoch 102/200\n",
            "4/4 [==============================] - 0s 3ms/step - loss: 1031.4400\n",
            "Epoch 103/200\n",
            "4/4 [==============================] - 0s 3ms/step - loss: 1007.8680\n",
            "Epoch 104/200\n",
            "4/4 [==============================] - 0s 3ms/step - loss: 968.2302\n",
            "Epoch 105/200\n",
            "4/4 [==============================] - 0s 2ms/step - loss: 995.6995\n",
            "Epoch 106/200\n",
            "4/4 [==============================] - 0s 2ms/step - loss: 868.6167\n",
            "Epoch 107/200\n",
            "4/4 [==============================] - 0s 2ms/step - loss: 869.1858\n",
            "Epoch 108/200\n",
            "4/4 [==============================] - 0s 3ms/step - loss: 875.5694\n",
            "Epoch 109/200\n",
            "4/4 [==============================] - 0s 3ms/step - loss: 887.3523\n",
            "Epoch 110/200\n",
            "4/4 [==============================] - 0s 3ms/step - loss: 798.7357\n",
            "Epoch 111/200\n",
            "4/4 [==============================] - 0s 3ms/step - loss: 787.0472\n",
            "Epoch 112/200\n",
            "4/4 [==============================] - 0s 3ms/step - loss: 789.0746\n",
            "Epoch 113/200\n",
            "4/4 [==============================] - 0s 3ms/step - loss: 783.7249\n",
            "Epoch 114/200\n",
            "4/4 [==============================] - 0s 2ms/step - loss: 701.8798\n",
            "Epoch 115/200\n",
            "4/4 [==============================] - 0s 3ms/step - loss: 664.0746\n",
            "Epoch 116/200\n",
            "4/4 [==============================] - 0s 6ms/step - loss: 714.0278\n",
            "Epoch 117/200\n",
            "4/4 [==============================] - 0s 5ms/step - loss: 690.9371\n",
            "Epoch 118/200\n",
            "4/4 [==============================] - 0s 4ms/step - loss: 629.7571\n",
            "Epoch 119/200\n",
            "4/4 [==============================] - 0s 4ms/step - loss: 650.2209\n",
            "Epoch 120/200\n",
            "4/4 [==============================] - 0s 5ms/step - loss: 618.5721\n",
            "Epoch 121/200\n",
            "4/4 [==============================] - 0s 4ms/step - loss: 592.4825\n",
            "Epoch 122/200\n",
            "4/4 [==============================] - 0s 3ms/step - loss: 543.1239\n",
            "Epoch 123/200\n",
            "4/4 [==============================] - 0s 6ms/step - loss: 545.8138\n",
            "Epoch 124/200\n",
            "4/4 [==============================] - 0s 2ms/step - loss: 519.7577\n",
            "Epoch 125/200\n",
            "4/4 [==============================] - 0s 3ms/step - loss: 506.0335\n",
            "Epoch 126/200\n",
            "4/4 [==============================] - 0s 2ms/step - loss: 495.6950\n",
            "Epoch 127/200\n",
            "4/4 [==============================] - 0s 3ms/step - loss: 476.9295\n",
            "Epoch 128/200\n",
            "4/4 [==============================] - 0s 4ms/step - loss: 462.0203\n",
            "Epoch 129/200\n",
            "4/4 [==============================] - 0s 3ms/step - loss: 478.7816\n",
            "Epoch 130/200\n",
            "4/4 [==============================] - 0s 3ms/step - loss: 436.8562\n",
            "Epoch 131/200\n",
            "4/4 [==============================] - 0s 3ms/step - loss: 438.1664\n",
            "Epoch 132/200\n",
            "4/4 [==============================] - 0s 3ms/step - loss: 398.1649\n",
            "Epoch 133/200\n",
            "4/4 [==============================] - 0s 3ms/step - loss: 380.3704\n",
            "Epoch 134/200\n",
            "4/4 [==============================] - 0s 4ms/step - loss: 336.8266\n",
            "Epoch 135/200\n",
            "4/4 [==============================] - 0s 4ms/step - loss: 350.4055\n",
            "Epoch 136/200\n",
            "4/4 [==============================] - 0s 3ms/step - loss: 351.9073\n",
            "Epoch 137/200\n",
            "4/4 [==============================] - 0s 2ms/step - loss: 315.1409\n",
            "Epoch 138/200\n",
            "4/4 [==============================] - 0s 3ms/step - loss: 304.5626\n",
            "Epoch 139/200\n",
            "4/4 [==============================] - 0s 2ms/step - loss: 288.6699\n",
            "Epoch 140/200\n",
            "4/4 [==============================] - 0s 3ms/step - loss: 282.5932\n",
            "Epoch 141/200\n",
            "4/4 [==============================] - 0s 2ms/step - loss: 267.7311\n",
            "Epoch 142/200\n",
            "4/4 [==============================] - 0s 3ms/step - loss: 265.7625\n",
            "Epoch 143/200\n",
            "4/4 [==============================] - 0s 4ms/step - loss: 249.3982\n",
            "Epoch 144/200\n",
            "4/4 [==============================] - 0s 3ms/step - loss: 224.2587\n",
            "Epoch 145/200\n",
            "4/4 [==============================] - 0s 3ms/step - loss: 227.2570\n",
            "Epoch 146/200\n",
            "4/4 [==============================] - 0s 2ms/step - loss: 219.1913\n",
            "Epoch 147/200\n",
            "4/4 [==============================] - 0s 3ms/step - loss: 221.8620\n",
            "Epoch 148/200\n",
            "4/4 [==============================] - 0s 3ms/step - loss: 198.3733\n",
            "Epoch 149/200\n",
            "4/4 [==============================] - 0s 3ms/step - loss: 179.3537\n",
            "Epoch 150/200\n",
            "4/4 [==============================] - 0s 3ms/step - loss: 176.2895\n",
            "Epoch 151/200\n",
            "4/4 [==============================] - 0s 4ms/step - loss: 172.6409\n",
            "Epoch 152/200\n",
            "4/4 [==============================] - 0s 3ms/step - loss: 164.4715\n",
            "Epoch 153/200\n",
            "4/4 [==============================] - 0s 3ms/step - loss: 154.7804\n",
            "Epoch 154/200\n",
            "4/4 [==============================] - 0s 3ms/step - loss: 147.2264\n",
            "Epoch 155/200\n",
            "4/4 [==============================] - 0s 4ms/step - loss: 126.2680\n",
            "Epoch 156/200\n",
            "4/4 [==============================] - 0s 3ms/step - loss: 141.4040\n",
            "Epoch 157/200\n",
            "4/4 [==============================] - 0s 3ms/step - loss: 141.4861\n",
            "Epoch 158/200\n",
            "4/4 [==============================] - 0s 3ms/step - loss: 120.9531\n",
            "Epoch 159/200\n",
            "4/4 [==============================] - 0s 3ms/step - loss: 118.8744\n",
            "Epoch 160/200\n",
            "4/4 [==============================] - 0s 3ms/step - loss: 108.0835\n",
            "Epoch 161/200\n",
            "4/4 [==============================] - 0s 3ms/step - loss: 108.9762\n",
            "Epoch 162/200\n",
            "4/4 [==============================] - 0s 3ms/step - loss: 106.3251\n",
            "Epoch 163/200\n",
            "4/4 [==============================] - 0s 3ms/step - loss: 95.6978\n",
            "Epoch 164/200\n",
            "4/4 [==============================] - 0s 3ms/step - loss: 88.8200\n",
            "Epoch 165/200\n",
            "4/4 [==============================] - 0s 3ms/step - loss: 89.4479\n",
            "Epoch 166/200\n",
            "4/4 [==============================] - 0s 4ms/step - loss: 85.7990\n",
            "Epoch 167/200\n",
            "4/4 [==============================] - 0s 3ms/step - loss: 82.1134\n",
            "Epoch 168/200\n",
            "4/4 [==============================] - 0s 3ms/step - loss: 76.3017\n",
            "Epoch 169/200\n",
            "4/4 [==============================] - 0s 3ms/step - loss: 67.5259\n",
            "Epoch 170/200\n",
            "4/4 [==============================] - 0s 3ms/step - loss: 63.6674\n",
            "Epoch 171/200\n",
            "4/4 [==============================] - 0s 3ms/step - loss: 61.8467\n",
            "Epoch 172/200\n",
            "4/4 [==============================] - 0s 3ms/step - loss: 59.3447\n",
            "Epoch 173/200\n",
            "4/4 [==============================] - 0s 3ms/step - loss: 59.2454\n",
            "Epoch 174/200\n",
            "4/4 [==============================] - 0s 3ms/step - loss: 58.8134\n",
            "Epoch 175/200\n",
            "4/4 [==============================] - 0s 3ms/step - loss: 54.1705\n",
            "Epoch 176/200\n",
            "4/4 [==============================] - 0s 3ms/step - loss: 47.5637\n",
            "Epoch 177/200\n",
            "4/4 [==============================] - 0s 9ms/step - loss: 47.8994\n",
            "Epoch 178/200\n",
            "4/4 [==============================] - 0s 3ms/step - loss: 46.8076\n",
            "Epoch 179/200\n",
            "4/4 [==============================] - 0s 5ms/step - loss: 45.7121\n",
            "Epoch 180/200\n",
            "4/4 [==============================] - 0s 5ms/step - loss: 42.1662\n",
            "Epoch 181/200\n",
            "4/4 [==============================] - 0s 3ms/step - loss: 38.4211\n",
            "Epoch 182/200\n",
            "4/4 [==============================] - 0s 6ms/step - loss: 37.3610\n",
            "Epoch 183/200\n",
            "4/4 [==============================] - 0s 4ms/step - loss: 40.1363\n",
            "Epoch 184/200\n",
            "4/4 [==============================] - 0s 6ms/step - loss: 35.3304\n",
            "Epoch 185/200\n",
            "4/4 [==============================] - 0s 5ms/step - loss: 35.7650\n",
            "Epoch 186/200\n",
            "4/4 [==============================] - 0s 4ms/step - loss: 34.4772\n",
            "Epoch 187/200\n",
            "4/4 [==============================] - 0s 5ms/step - loss: 32.5456\n",
            "Epoch 188/200\n",
            "4/4 [==============================] - 0s 2ms/step - loss: 29.3244\n",
            "Epoch 189/200\n",
            "4/4 [==============================] - 0s 3ms/step - loss: 29.6468\n",
            "Epoch 190/200\n",
            "4/4 [==============================] - 0s 3ms/step - loss: 28.1481\n",
            "Epoch 191/200\n",
            "4/4 [==============================] - 0s 3ms/step - loss: 28.0226\n",
            "Epoch 192/200\n",
            "4/4 [==============================] - 0s 3ms/step - loss: 28.7265\n",
            "Epoch 193/200\n",
            "4/4 [==============================] - 0s 2ms/step - loss: 25.9041\n",
            "Epoch 194/200\n",
            "4/4 [==============================] - 0s 3ms/step - loss: 27.2458\n",
            "Epoch 195/200\n",
            "4/4 [==============================] - 0s 2ms/step - loss: 27.8324\n",
            "Epoch 196/200\n",
            "4/4 [==============================] - 0s 3ms/step - loss: 23.5635\n",
            "Epoch 197/200\n",
            "4/4 [==============================] - 0s 3ms/step - loss: 22.6714\n",
            "Epoch 198/200\n",
            "4/4 [==============================] - 0s 5ms/step - loss: 24.2179\n",
            "Epoch 199/200\n",
            "4/4 [==============================] - 0s 3ms/step - loss: 23.5947\n",
            "Epoch 200/200\n",
            "4/4 [==============================] - 0s 3ms/step - loss: 21.5972\n"
          ],
          "name": "stdout"
        },
        {
          "output_type": "execute_result",
          "data": {
            "text/plain": [
              "<tensorflow.python.keras.callbacks.History at 0x7f31ff5686d8>"
            ]
          },
          "metadata": {
            "tags": []
          },
          "execution_count": 11
        }
      ]
    },
    {
      "cell_type": "code",
      "metadata": {
        "id": "pDJM_h9AE_79",
        "colab": {
          "base_uri": "https://localhost:8080/",
          "height": 282
        },
        "outputId": "04081941-99aa-45be-9af8-b1904b2cc7b9"
      },
      "source": [
        "loss=model.history.history['loss']\n",
        "epochs=range(len(loss))\n",
        "plt.plot(epochs,loss)"
      ],
      "execution_count": 12,
      "outputs": [
        {
          "output_type": "execute_result",
          "data": {
            "text/plain": [
              "[<matplotlib.lines.Line2D at 0x7f31f8a61550>]"
            ]
          },
          "metadata": {
            "tags": []
          },
          "execution_count": 12
        },
        {
          "output_type": "display_data",
          "data": {
            "image/png": "[encoded data removed]",
            "text/plain": [
              "<Figure size 432x288 with 1 Axes>"
            ]
          },
          "metadata": {
            "tags": [],
            "needs_background": "light"
          }
        }
      ]
    },
    {
      "cell_type": "markdown",
      "metadata": {
        "id": "sQQ-RL8k3bvN"
      },
      "source": [
        "## Prediciendo nuevos puntos con el modelo creado\n"
      ]
    },
    {
      "cell_type": "code",
      "metadata": {
        "id": "7mKcVdwr3bvO"
      },
      "source": [
        "x_for_predictions = np.linspace(0,50,1000)"
      ],
      "execution_count": 13,
      "outputs": []
    },
    {
      "cell_type": "code",
      "metadata": {
        "id": "zilII-3l3bvQ"
      },
      "source": [
        "y_predicted = model.predict(x_for_predictions)"
      ],
      "execution_count": 14,
      "outputs": []
    },
    {
      "cell_type": "code",
      "metadata": {
        "id": "CRmYwiW93bvS",
        "colab": {
          "base_uri": "https://localhost:8080/",
          "height": 265
        },
        "outputId": "ff417ddb-03f9-4024-8f94-33f3ceabd360"
      },
      "source": [
        "# X e Y originales\n",
        "plt.plot(x,y,'*')\n",
        "# Línea de predicción\n",
        "plt.plot(x_for_predictions,y_predicted,'r');"
      ],
      "execution_count": 15,
      "outputs": [
        {
          "output_type": "display_data",
          "data": {
            "image/png": "[encoded data removed]",
            "text/plain": [
              "<Figure size 432x288 with 1 Axes>"
            ]
          },
          "metadata": {
            "tags": [],
            "needs_background": "light"
          }
        }
      ]
    },
    {
      "cell_type": "markdown",
      "metadata": {
        "id": "MbnrstBa3bvU"
      },
      "source": [
        "# Evaluando el error"
      ]
    },
    {
      "cell_type": "code",
      "metadata": {
        "id": "XxIMKNaX3bvV"
      },
      "source": [
        "from sklearn.metrics import mean_squared_error,mean_absolute_error"
      ],
      "execution_count": 18,
      "outputs": []
    },
    {
      "cell_type": "code",
      "metadata": {
        "id": "BqVLux-h3bvX"
      },
      "source": [
        "# Predicciones\n",
        "prediction_for_true_y = model.predict(x)"
      ],
      "execution_count": 19,
      "outputs": []
    },
    {
      "cell_type": "code",
      "metadata": {
        "id": "TqnV8_Ho3bva",
        "colab": {
          "base_uri": "https://localhost:8080/"
        },
        "outputId": "d2ba12e2-4619-433d-8a71-9bc5c7cb65de"
      },
      "source": [
        "mean_squared_error(y,prediction_for_true_y)"
      ],
      "execution_count": 20,
      "outputs": [
        {
          "output_type": "execute_result",
          "data": {
            "text/plain": [
              "22.21224019321466"
            ]
          },
          "metadata": {
            "tags": []
          },
          "execution_count": 20
        }
      ]
    },
    {
      "cell_type": "code",
      "metadata": {
        "id": "7lAvngdpO9PE",
        "colab": {
          "base_uri": "https://localhost:8080/"
        },
        "outputId": "262152ce-e3d2-42e8-dd50-935c7f31e7d6"
      },
      "source": [
        "mean_absolute_error(y,prediction_for_true_y)"
      ],
      "execution_count": 21,
      "outputs": [
        {
          "output_type": "execute_result",
          "data": {
            "text/plain": [
              "3.7713341129911693"
            ]
          },
          "metadata": {
            "tags": []
          },
          "execution_count": 21
        }
      ]
    },
    {
      "cell_type": "code",
      "metadata": {
        "id": "Uh_R3pIAiaGn"
      },
      "source": [
        ""
      ],
      "execution_count": null,
      "outputs": []
    }
  ]
}